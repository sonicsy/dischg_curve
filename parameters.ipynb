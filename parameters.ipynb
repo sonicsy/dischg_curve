{
 "cells": [
  {
   "cell_type": "code",
   "execution_count": 1,
   "id": "1dbe2428",
   "metadata": {},
   "outputs": [],
   "source": [
    "import streamlit as st\n",
    "import pandas as pd\n",
    "import numpy as np\n",
    "import warnings\n",
    "import plotly.express as px"
   ]
  },
  {
   "cell_type": "code",
   "execution_count": null,
   "id": "d632ce6b",
   "metadata": {},
   "outputs": [],
   "source": [
    "# 二级报警阈值（V）\n",
    "TH_LEVEL2 = 2.95\n",
    "# 强制充电请求阈值（V）\n",
    "TH_FORCE_CHG = 2.85\n",
    "# 一级报警阈值，断开接触器（V）\n",
    "TH_LEVEL1 = 2.7\n",
    "# 微断脱扣阈值（V）\n",
    "TH_OFF_QF = 2.6\n",
    "# 储能柜功率(kW)\n",
    "ESS_POWER = 125\n",
    "# 系统响应时间（s）\n",
    "SYS_RESP_T = 10\n",
    "# 待机功耗（W）\n",
    "STANDBY_P = 100\n",
    "# 电池串数\n",
    "BATT_SERIES = 260\n",
    "# 系统损耗\n",
    "SYS_LOSS = 0.7"
   ]
  },
  {
   "cell_type": "code",
   "execution_count": 3,
   "id": "c3f34c80",
   "metadata": {},
   "outputs": [],
   "source": [
    "df = pd.read_excel('SOC-OCV与放电曲线.xlsx', sheet_name='亿纬314Ah0.5P放电曲线1')"
   ]
  },
  {
   "cell_type": "code",
   "execution_count": 19,
   "id": "6364468c",
   "metadata": {},
   "outputs": [],
   "source": [
    "se_th_level2 = df[df['实际电压(V)'] < TH_LEVEL2].iloc[0]\n",
    "se_th_level2['名称'] = '二级报警阈值'\n",
    "se_th_level2['阈值'] = TH_LEVEL2\n",
    "\n",
    "se_th_force_chg = df[df['实际电压(V)'] < TH_FORCE_CHG].iloc[0]\n",
    "se_th_force_chg['名称'] = '强制充电请求阈值'\n",
    "se_th_force_chg['阈值'] = TH_FORCE_CHG\n",
    "\n",
    "se_th_level1 = df[df['实际电压(V)'] < TH_LEVEL1].iloc[0]\n",
    "se_th_level1['名称'] = '一级报警阈值'\n",
    "se_th_level1['阈值'] = TH_LEVEL1\n",
    "\n",
    "se_th_off_qf = df[df['实际电压(V)'] < TH_OFF_QF].iloc[0]\n",
    "se_th_off_qf['名称'] = '微断脱扣阈值'\n",
    "se_th_off_qf['阈值'] = TH_OFF_QF\n"
   ]
  },
  {
   "cell_type": "code",
   "execution_count": 27,
   "id": "f490135c",
   "metadata": {},
   "outputs": [],
   "source": [
    "# 停止放电到强充标志置位时间（S）T1\n",
    "T1 = BATT_SERIES*(se_th_force_chg['能量(Wh)'] - se_th_level2['能量(Wh)']) / 1000 * 3600 / ESS_POWER\n",
    "\n",
    "T2 = (BATT_SERIES*(se_th_level1['能量(Wh)'] - se_th_level2['能量(Wh)']) - ESS_POWER * 1000 * SYS_RESP_T/3600) / STANDBY_P * SYS_LOSS"
   ]
  },
  {
   "cell_type": "code",
   "execution_count": 28,
   "id": "95d39c98",
   "metadata": {},
   "outputs": [
    {
     "name": "stdout",
     "output_type": "stream",
     "text": [
      "停止放电到强充标志置位时间T1: 36秒\n",
      "停止放电到断开主回路接触器时间T2: 23小时\n"
     ]
    }
   ],
   "source": [
    "print(f\"停止放电到强充标志置位时间T1: {T1:.0f}秒\\n停止放电到断开主回路接触器时间T2: {T2:.0f}小时\")"
   ]
  },
  {
   "cell_type": "code",
   "execution_count": 25,
   "id": "2ee2b42c",
   "metadata": {},
   "outputs": [],
   "source": [
    "df_th_val = pd.concat([se_th_level2, se_th_force_chg, se_th_level1, se_th_off_qf], axis=1)"
   ]
  },
  {
   "cell_type": "code",
   "execution_count": 26,
   "id": "10933012",
   "metadata": {},
   "outputs": [
    {
     "data": {
      "text/html": [
       "<div>\n",
       "<style scoped>\n",
       "    .dataframe tbody tr th:only-of-type {\n",
       "        vertical-align: middle;\n",
       "    }\n",
       "\n",
       "    .dataframe tbody tr th {\n",
       "        vertical-align: top;\n",
       "    }\n",
       "\n",
       "    .dataframe thead th {\n",
       "        text-align: right;\n",
       "    }\n",
       "</style>\n",
       "<table border=\"1\" class=\"dataframe\">\n",
       "  <thead>\n",
       "    <tr style=\"text-align: right;\">\n",
       "      <th></th>\n",
       "      <th>实际电压(V)</th>\n",
       "      <th>容量(Ah)</th>\n",
       "      <th>能量(Wh)</th>\n",
       "      <th>名称</th>\n",
       "      <th>阈值</th>\n",
       "    </tr>\n",
       "  </thead>\n",
       "  <tbody>\n",
       "    <tr>\n",
       "      <th>7426</th>\n",
       "      <td>2.8993</td>\n",
       "      <td>322.886</td>\n",
       "      <td>1036.984</td>\n",
       "      <td>二级报警阈值</td>\n",
       "      <td>2.9</td>\n",
       "    </tr>\n",
       "    <tr>\n",
       "      <th>7460</th>\n",
       "      <td>2.8494</td>\n",
       "      <td>324.5372</td>\n",
       "      <td>1041.73</td>\n",
       "      <td>强制充电请求阈值</td>\n",
       "      <td>2.85</td>\n",
       "    </tr>\n",
       "    <tr>\n",
       "      <th>7528</th>\n",
       "      <td>2.6971</td>\n",
       "      <td>327.9536</td>\n",
       "      <td>1051.229</td>\n",
       "      <td>一级报警阈值</td>\n",
       "      <td>2.7</td>\n",
       "    </tr>\n",
       "    <tr>\n",
       "      <th>7553</th>\n",
       "      <td>2.5992</td>\n",
       "      <td>329.27</td>\n",
       "      <td>1054.719</td>\n",
       "      <td>微断脱扣阈值</td>\n",
       "      <td>2.6</td>\n",
       "    </tr>\n",
       "  </tbody>\n",
       "</table>\n",
       "</div>"
      ],
      "text/plain": [
       "     实际电压(V)    容量(Ah)    能量(Wh)        名称    阈值\n",
       "7426  2.8993   322.886  1036.984    二级报警阈值   2.9\n",
       "7460  2.8494  324.5372   1041.73  强制充电请求阈值  2.85\n",
       "7528  2.6971  327.9536  1051.229    一级报警阈值   2.7\n",
       "7553  2.5992    329.27  1054.719    微断脱扣阈值   2.6"
      ]
     },
     "execution_count": 26,
     "metadata": {},
     "output_type": "execute_result"
    }
   ],
   "source": [
    "df_th_val.T"
   ]
  }
 ],
 "metadata": {
  "kernelspec": {
   "display_name": "venv1",
   "language": "python",
   "name": "python3"
  },
  "language_info": {
   "codemirror_mode": {
    "name": "ipython",
    "version": 3
   },
   "file_extension": ".py",
   "mimetype": "text/x-python",
   "name": "python",
   "nbconvert_exporter": "python",
   "pygments_lexer": "ipython3",
   "version": "3.13.0"
  }
 },
 "nbformat": 4,
 "nbformat_minor": 5
}
