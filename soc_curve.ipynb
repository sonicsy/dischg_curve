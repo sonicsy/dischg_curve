{
 "cells": [
  {
   "cell_type": "code",
   "execution_count": 19,
   "id": "6374f5ca",
   "metadata": {},
   "outputs": [],
   "source": [
    "import streamlit as st\n",
    "import pandas as pd\n",
    "import numpy as np\n",
    "import warnings\n",
    "import plotly.express as px"
   ]
  },
  {
   "cell_type": "code",
   "execution_count": 20,
   "id": "2ed39219",
   "metadata": {},
   "outputs": [],
   "source": [
    "\n",
    "df1 = pd.read_excel('SOC-OCV与放电曲线.xlsx', sheet_name='OCV_SOC')\n",
    "df1.rename(columns={'SOC/%': 'SOC'}, inplace=True)\n",
    "df2 = pd.read_excel('SOC-OCV与放电曲线.xlsx', sheet_name='0.5C放电曲线')\n",
    "df3 = pd.read_excel('SOC-OCV与放电曲线.xlsx', sheet_name='0.04C放电曲线')\n",
    "df4 = pd.read_excel('SOC-OCV与放电曲线.xlsx', sheet_name='0.5P放电曲线')\n",
    "df5 = pd.read_excel('SOC-OCV与放电曲线.xlsx', sheet_name='亿纬314Ah0.5P放电曲线1')\n",
    "df6 = pd.read_excel('SOC-OCV与放电曲线.xlsx', sheet_name='亿纬314Ah0.5P放电曲线2')"
   ]
  },
  {
   "cell_type": "code",
   "execution_count": 21,
   "id": "c1fef19f",
   "metadata": {},
   "outputs": [],
   "source": [
    "TOTAL_POINT = 1000\n",
    "soc_points = np.linspace(0, TOTAL_POINT, TOTAL_POINT + 1, dtype=int)\n",
    "soc_index = soc_points / TOTAL_POINT * 100"
   ]
  },
  {
   "cell_type": "code",
   "execution_count": 22,
   "id": "a5bfdfa8",
   "metadata": {},
   "outputs": [],
   "source": [
    "df1_resampled = pd.DataFrame()\n",
    "df1_resampled['海辰280AhOCV-SOC电压'] = np.interp(soc_index, df1['SOC'], df1['25放电'])\n",
    "\n",
    "df2_resampled = pd.DataFrame()\n",
    "df2_resampled['海辰280Ah0.5C放电电压'] = df2.iloc[np.linspace(0, len(df2) - 1, TOTAL_POINT + 1, dtype=int)]['电压(V)']\n",
    "df2_resampled = df2_resampled.iloc[::-1].reset_index(drop=True)\n",
    "\n",
    "df3_resampled = pd.DataFrame()\n",
    "df3_resampled['海辰280Ah0.04C放电电压'] = df3.iloc[np.linspace(0, len(df3) - 1, TOTAL_POINT + 1, dtype=int)]['实际电压(V)']\n",
    "df3_resampled = df3_resampled.reset_index(drop=True)\n",
    "\n",
    "df4_resampled = pd.DataFrame()\n",
    "df4_resampled['海辰280Ah0.5P放电电压'] = df4.iloc[np.linspace(0, len(df4) - 1, TOTAL_POINT + 1, dtype=int)]['实际电压(V)']\n",
    "df4_resampled = df4_resampled[::-1].reset_index(drop=True)\n",
    "\n",
    "df5_resampled = pd.DataFrame()\n",
    "df5_resampled['亿纬314Ah0.5P放电电压1'] = df5.iloc[np.linspace(0, len(df5) - 1, TOTAL_POINT + 1, dtype=int)]['实际电压(V)']\n",
    "df5_resampled = df5_resampled[::-1].reset_index(drop=True)\n",
    "\n",
    "df6_resampled = pd.DataFrame()\n",
    "df6_resampled['亿纬314Ah0.5P放电电压2'] = df6.iloc[np.linspace(0, len(df6) - 1, TOTAL_POINT + 1, dtype=int)]['实际电压(V)']\n",
    "df6_resampled = df6_resampled[::-1].reset_index(drop=True)"
   ]
  },
  {
   "cell_type": "code",
   "execution_count": 23,
   "id": "bf559937",
   "metadata": {},
   "outputs": [],
   "source": [
    "STOP_SOC = 2.9\n",
    "df_real_curve = pd.DataFrame()\n",
    "df_real_curve_seg1 = df4_resampled['海辰280Ah0.5P放电电压'].iloc[int((STOP_SOC) / 100 * TOTAL_POINT):].reset_index(drop=True)\n",
    "df_real_curve_seg2 = df3_resampled['海辰280Ah0.04C放电电压'].iloc[:int((STOP_SOC) / 100 * TOTAL_POINT)].reset_index(drop=True)\n",
    "df_real_curve['海辰280Ah模拟放电曲线'] = pd.concat([df_real_curve_seg2, df_real_curve_seg1], axis=0).reset_index(drop=True)"
   ]
  },
  {
   "cell_type": "code",
   "execution_count": 24,
   "id": "e391d2d9",
   "metadata": {},
   "outputs": [],
   "source": [
    "df_merged = pd.concat([df1_resampled, df2_resampled, df3_resampled, df4_resampled, df5_resampled, df6_resampled, df_real_curve], axis=1)\n",
    "# df_merged['SOC'] = soc_index\n",
    "# df_merged.set_index('SOC', inplace=True)\n",
    "df_merged.to_csv('resampled_data.csv', index=False)"
   ]
  }
 ],
 "metadata": {
  "kernelspec": {
   "display_name": "venv1",
   "language": "python",
   "name": "python3"
  },
  "language_info": {
   "codemirror_mode": {
    "name": "ipython",
    "version": 3
   },
   "file_extension": ".py",
   "mimetype": "text/x-python",
   "name": "python",
   "nbconvert_exporter": "python",
   "pygments_lexer": "ipython3",
   "version": "3.13.0"
  }
 },
 "nbformat": 4,
 "nbformat_minor": 5
}
